{
 "cells": [
  {
   "cell_type": "markdown",
   "metadata": {},
   "source": [
    "This data is available from the EPA's annual air quality pregenerated files.\n",
    "Currently covers years 2012-2018."
   ]
  },
  {
   "cell_type": "code",
   "execution_count": 1,
   "metadata": {},
   "outputs": [],
   "source": [
    "import pandas as pd"
   ]
  },
  {
   "cell_type": "code",
   "execution_count": 2,
   "metadata": {},
   "outputs": [],
   "source": [
    "# Make a dictionary of URLs for each year\n",
    "urls = {\n",
    "    \n",
    "}"
   ]
  },
  {
   "cell_type": "code",
   "execution_count": 3,
   "metadata": {},
   "outputs": [],
   "source": [
    "def add_state_abbr(df):\n",
    "    \"\"\"\n",
    "    Given a data frame df, will add a column called 'state_abbr' which holds the state abbreviation grabbed from 'cbsa'.\n",
    "    \"\"\"\n",
    "    df['state_abbr'] = df['cbsa'].str[-2:]"
   ]
  },
  {
   "cell_type": "code",
   "execution_count": 4,
   "metadata": {},
   "outputs": [],
   "source": [
    "def set_column_data_types(df):\n",
    "    \"\"\"\n",
    "    Will change the data types of the columns to their proper types.\n",
    "    Since there are only 3 non-numeric columns, we simply do if(non-numeric) ==> string, else ==> numeric.\n",
    "    \"\"\"\n",
    "    string_columns = ['cbsa', 'cbsa_code', 'state_abbr']\n",
    "    for column in aqi17:\n",
    "        if column in string_columns:\n",
    "            aqi17[column] = aqi17[column].astype(str)\n",
    "        else:\n",
    "            aqi17[column] = aqi17[column].astype(int)"
   ]
  },
  {
   "cell_type": "code",
   "execution_count": null,
   "metadata": {},
   "outputs": [],
   "source": []
  }
 ],
 "metadata": {
  "kernelspec": {
   "display_name": "Python 3",
   "language": "python",
   "name": "python3"
  },
  "language_info": {
   "codemirror_mode": {
    "name": "ipython",
    "version": 3
   },
   "file_extension": ".py",
   "mimetype": "text/x-python",
   "name": "python",
   "nbconvert_exporter": "python",
   "pygments_lexer": "ipython3",
   "version": "3.6.5"
  }
 },
 "nbformat": 4,
 "nbformat_minor": 2
}
